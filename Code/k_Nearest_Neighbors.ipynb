{
  "nbformat": 4,
  "nbformat_minor": 0,
  "metadata": {
    "colab": {
      "name": "k-Nearest-Neighbors.ipynb",
      "provenance": [],
      "collapsed_sections": [],
      "authorship_tag": "ABX9TyMNuVkgZEq92OERODwu/jha",
      "include_colab_link": true
    },
    "kernelspec": {
      "name": "python3",
      "display_name": "Python 3"
    }
  },
  "cells": [
    {
      "cell_type": "markdown",
      "metadata": {
        "id": "view-in-github",
        "colab_type": "text"
      },
      "source": [
        "<a href=\"https://colab.research.google.com/github/geunkim/Artificial-Intelligence/blob/master/Code/k_Nearest_Neighbors.ipynb\" target=\"_parent\"><img src=\"https://colab.research.google.com/assets/colab-badge.svg\" alt=\"Open In Colab\"/></a>"
      ]
    },
    {
      "cell_type": "markdown",
      "metadata": {
        "id": "u2ZHBSkSFgLe",
        "colab_type": "text"
      },
      "source": [
        "# **K-Nearest Neighbor Classification**\n",
        "\n",
        "## **K-Nearest Neighbor Classification with Numbpy/Tensorflow on Fashion MNIST Dataset**\n",
        "\n",
        "\n",
        "\n",
        "\n"
      ]
    },
    {
      "cell_type": "code",
      "metadata": {
        "id": "ppN-5ZmZGDXF",
        "colab_type": "code",
        "colab": {}
      },
      "source": [
        "import tensorflow as tf\n",
        "from tensorflow import keras\n",
        "import numpy as np\n",
        "import matplotlib.pyplot as plt\n",
        "from math import sqrt"
      ],
      "execution_count": 0,
      "outputs": []
    },
    {
      "cell_type": "code",
      "metadata": {
        "id": "OCA82yz4GXO8",
        "colab_type": "code",
        "colab": {}
      },
      "source": [
        "# Make data set\n",
        "\n",
        "# Test distance function\n",
        "# [x, y, type]\n",
        "\n",
        "dataset = [[2.7810836,2.550537003,0],\n",
        "\t[1.465489372,2.362125076,0],\n",
        "\t[3.396561688,4.400293529,0],\n",
        "\t[1.38807019,1.850220317,0],\n",
        "\t[3.06407232,3.005305973,0],\n",
        "\t[7.627531214,2.759262235,1],\n",
        "\t[5.332441248,2.088626775,1],\n",
        "\t[6.922596716,1.77106367,1],\n",
        "\t[8.675418651,-0.242068655,1],\n",
        "\t[7.673756466,3.508563011,1]]"
      ],
      "execution_count": 0,
      "outputs": []
    },
    {
      "cell_type": "code",
      "metadata": {
        "id": "JWmSaEjNRApd",
        "colab_type": "code",
        "colab": {
          "base_uri": "https://localhost:8080/",
          "height": 183
        },
        "outputId": "0a17e2ec-e183-43ac-9b70-31bd0c596b8f"
      },
      "source": [
        "dataset"
      ],
      "execution_count": 13,
      "outputs": [
        {
          "output_type": "execute_result",
          "data": {
            "text/plain": [
              "[[2.7810836, 2.550537003, 0],\n",
              " [1.465489372, 2.362125076, 0],\n",
              " [3.396561688, 4.400293529, 0],\n",
              " [1.38807019, 1.850220317, 0],\n",
              " [3.06407232, 3.005305973, 0],\n",
              " [7.627531214, 2.759262235, 1],\n",
              " [5.332441248, 2.088626775, 1],\n",
              " [6.922596716, 1.77106367, 1],\n",
              " [8.675418651, -0.242068655, 1],\n",
              " [7.673756466, 3.508563011, 1]]"
            ]
          },
          "metadata": {
            "tags": []
          },
          "execution_count": 13
        }
      ]
    },
    {
      "cell_type": "markdown",
      "metadata": {
        "id": "YCi3oB9jLqKq",
        "colab_type": "text"
      },
      "source": [
        "### 거리 계산하기\n",
        "\n"
      ]
    },
    {
      "cell_type": "code",
      "metadata": {
        "id": "MPlhV-oALy_T",
        "colab_type": "code",
        "colab": {}
      },
      "source": [
        "# calculate the Euclidean distance between two vectors\n",
        "# row = [x, y, type]\n",
        "\n",
        "def euclidean_distance(row1, row2):\n",
        "\tdistance = 0.0\n",
        "\tfor i in range(len(row1)-1):\n",
        "\t\tdistance += (row1[i] - row2[i])**2\n",
        "\treturn sqrt(distance)"
      ],
      "execution_count": 0,
      "outputs": []
    },
    {
      "cell_type": "markdown",
      "metadata": {
        "id": "T1l1kmYjL5b5",
        "colab_type": "text"
      },
      "source": [
        "### 임의의 점 [3, 3]을 기준으로 거리 구하기"
      ]
    },
    {
      "cell_type": "code",
      "metadata": {
        "id": "3PnQ6jxGL7xb",
        "colab_type": "code",
        "colab": {
          "base_uri": "https://localhost:8080/",
          "height": 183
        },
        "outputId": "0116cec7-7f4b-4da8-c0a5-f7c975d6f031"
      },
      "source": [
        "row0 = [3,3]\n",
        "for row in dataset:\n",
        "\tdistance = euclidean_distance(row0, row)\n",
        "\tprint(distance)\n",
        " "
      ],
      "execution_count": 4,
      "outputs": [
        {
          "output_type": "stream",
          "text": [
            "0.2189163999999999\n",
            "1.534510628\n",
            "0.3965616879999998\n",
            "1.61192981\n",
            "0.06407232000000018\n",
            "4.627531214\n",
            "2.3324412480000003\n",
            "3.922596716\n",
            "5.675418650999999\n",
            "4.673756466\n"
          ],
          "name": "stdout"
        }
      ]
    },
    {
      "cell_type": "markdown",
      "metadata": {
        "id": "hQrw4pCqMp4a",
        "colab_type": "text"
      },
      "source": [
        "### 가장 근처에 있는 요소 선택하기 "
      ]
    },
    {
      "cell_type": "code",
      "metadata": {
        "id": "hO9-FF9TMpet",
        "colab_type": "code",
        "colab": {}
      },
      "source": [
        "## num_neighbors: \n",
        "\n",
        "def get_neighbors(train, test_row, num_neighbors):\n",
        "\tdistances = list()\n",
        "\tfor train_row in train:\n",
        "\t\tdist = euclidean_distance(test_row, train_row)\n",
        "\t\tdistances.append((train_row, dist))\n",
        "\tdistances.sort(key=lambda tup: tup[1])\n",
        "\tneighbors = list()\n",
        "\tfor i in range(num_neighbors):\n",
        "\t\tneighbors.append(distances[i][0])\n",
        "\treturn neighbors"
      ],
      "execution_count": 0,
      "outputs": []
    },
    {
      "cell_type": "markdown",
      "metadata": {
        "id": "MmoI8fhuM1pE",
        "colab_type": "text"
      },
      "source": [
        "train 변수는 데이터 셋, test_row는 측정하고자 하는 좌표, num_neighbor 변수가 K를 의미 "
      ]
    },
    {
      "cell_type": "code",
      "metadata": {
        "id": "irwq2_4lNBLn",
        "colab_type": "code",
        "colab": {
          "base_uri": "https://localhost:8080/",
          "height": 66
        },
        "outputId": "c247d7af-7ad3-4666-a871-76fc83447b7c"
      },
      "source": [
        "neighbors = get_neighbors(dataset, row0, 3)\n",
        "for neighbor in neighbors:\n",
        "\tprint(neighbor)"
      ],
      "execution_count": 6,
      "outputs": [
        {
          "output_type": "stream",
          "text": [
            "[3.06407232, 3.005305973, 0]\n",
            "[2.7810836, 2.550537003, 0]\n",
            "[3.396561688, 4.400293529, 0]\n"
          ],
          "name": "stdout"
        }
      ]
    },
    {
      "cell_type": "markdown",
      "metadata": {
        "id": "Tm3oMNIeN7GJ",
        "colab_type": "text"
      },
      "source": [
        "### 예측하기"
      ]
    },
    {
      "cell_type": "code",
      "metadata": {
        "id": "HlwwOQ10N_dY",
        "colab_type": "code",
        "colab": {}
      },
      "source": [
        "# Make a classification prediction with neighbors\n",
        "def predict_classification(train, test_row, num_neighbors):\n",
        "\tneighbors = get_neighbors(train, test_row, num_neighbors)\n",
        "\tfor neighbor in neighbors:\n",
        "\t\tprint(neighbor)\n",
        "\toutput_values = [row[-1] for row in neighbors]\n",
        "\tprediction = max(set(output_values), key=output_values.count)\n",
        "\treturn prediction"
      ],
      "execution_count": 0,
      "outputs": []
    },
    {
      "cell_type": "code",
      "metadata": {
        "id": "xIHhsnFYOEKy",
        "colab_type": "code",
        "colab": {
          "base_uri": "https://localhost:8080/",
          "height": 83
        },
        "outputId": "ecd94311-56c6-4664-ec81-b7dc3cd29421"
      },
      "source": [
        "row0 = [3,3,0]\n",
        "\n",
        "prediction = predict_classification(dataset, row0, 3)\n",
        "print('Expected %d, Got %d.' % (row0[-1], prediction))"
      ],
      "execution_count": 8,
      "outputs": [
        {
          "output_type": "stream",
          "text": [
            "[3.06407232, 3.005305973, 0]\n",
            "[2.7810836, 2.550537003, 0]\n",
            "[3.396561688, 4.400293529, 0]\n",
            "Expected 0, Got 0.\n"
          ],
          "name": "stdout"
        }
      ]
    },
    {
      "cell_type": "code",
      "metadata": {
        "id": "Jcu99aYxOQ0p",
        "colab_type": "code",
        "colab": {
          "base_uri": "https://localhost:8080/",
          "height": 83
        },
        "outputId": "ca1254be-2e79-4557-a809-6be8b04c9059"
      },
      "source": [
        "row0 = [6,5,0]\n",
        "\n",
        "prediction = predict_classification(dataset, row0, 3)\n",
        "print('Expected %d, Got %d.' % (row0[-1], prediction))"
      ],
      "execution_count": 10,
      "outputs": [
        {
          "output_type": "stream",
          "text": [
            "[7.673756466, 3.508563011, 1]\n",
            "[3.396561688, 4.400293529, 0]\n",
            "[7.627531214, 2.759262235, 1]\n",
            "Expected 0, Got 1.\n"
          ],
          "name": "stdout"
        }
      ]
    },
    {
      "cell_type": "markdown",
      "metadata": {
        "id": "Kq_nV1mKODq5",
        "colab_type": "text"
      },
      "source": [
        ""
      ]
    }
  ]
}