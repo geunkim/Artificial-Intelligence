{
  "nbformat": 4,
  "nbformat_minor": 0,
  "metadata": {
    "colab": {
      "name": "k-Nearest-Neighbors.ipynb",
      "provenance": [],
      "collapsed_sections": [],
      "authorship_tag": "ABX9TyMcok402Y5JNleb/xFffi2f",
      "include_colab_link": true
    },
    "kernelspec": {
      "name": "python3",
      "display_name": "Python 3"
    }
  },
  "cells": [
    {
      "cell_type": "markdown",
      "metadata": {
        "id": "view-in-github",
        "colab_type": "text"
      },
      "source": [
        "<a href=\"https://colab.research.google.com/github/geunkim/Artificial-Intelligence/blob/master/Code/k_Nearest_Neighbors.ipynb\" target=\"_parent\"><img src=\"https://colab.research.google.com/assets/colab-badge.svg\" alt=\"Open In Colab\"/></a>"
      ]
    },
    {
      "cell_type": "markdown",
      "metadata": {
        "id": "u2ZHBSkSFgLe",
        "colab_type": "text"
      },
      "source": [
        "# **K-Nearest Neighbor Classification**\n",
        "\n",
        "KNN 설명 추가 \n",
        "\n",
        "\n",
        "\n",
        "\n",
        "## **I. 매우 단순한 예제**\n",
        "\n",
        "### **1. 필요한 라이브러리 임포트** "
      ]
    },
    {
      "cell_type": "code",
      "metadata": {
        "id": "ppN-5ZmZGDXF",
        "colab_type": "code",
        "colab": {}
      },
      "source": [
        "import tensorflow as tf\n",
        "from tensorflow import keras\n",
        "import numpy as np\n",
        "import matplotlib.pyplot as plt\n",
        "from math import sqrt"
      ],
      "execution_count": 0,
      "outputs": []
    },
    {
      "cell_type": "markdown",
      "metadata": {
        "id": "db2Ymzr7vjao",
        "colab_type": "text"
      },
      "source": [
        "### **2. 관련함수 구현** \n",
        "\n",
        "* euclidean_distance(row1, row2)\n",
        "  - row1과 row2 간의 유클리디언 거리 계산\n",
        "\n",
        " "
      ]
    },
    {
      "cell_type": "code",
      "metadata": {
        "id": "MPlhV-oALy_T",
        "colab_type": "code",
        "colab": {}
      },
      "source": [
        "# calculate the Euclidean distance between two vectors\n",
        "# row = [x, y, type]\n",
        "\n",
        "def euclidean_distance(row1, row2):\n",
        "\tdistance = 0.0\n",
        "\tfor i in range(len(row1)-1):\n",
        "\t\tdistance += (row1[i] - row2[i])**2\n",
        "\treturn sqrt(distance)"
      ],
      "execution_count": 0,
      "outputs": []
    },
    {
      "cell_type": "markdown",
      "metadata": {
        "id": "kWnGrJwpwXMQ",
        "colab_type": "text"
      },
      "source": [
        "* get_neighbors(train, test_row, num_neighbors)\n",
        "  - train 데이터 중 test_row에서 가장 근접한 노드 중 num_neighbors 개를 반환 "
      ]
    },
    {
      "cell_type": "code",
      "metadata": {
        "id": "hO9-FF9TMpet",
        "colab_type": "code",
        "colab": {}
      },
      "source": [
        "## num_neighbors: \n",
        "\n",
        "def get_neighbors(train, test_row, num_neighbors):\n",
        "\tdistances = list()\n",
        "\tfor train_row in train:\n",
        "\t\tdist = euclidean_distance(test_row, train_row)\n",
        "\t\tdistances.append((train_row, dist))\n",
        "\tdistances.sort(key=lambda tup: tup[1])\n",
        "\tneighbors = list()\n",
        "\tfor i in range(num_neighbors):\n",
        "\t\tneighbors.append(distances[i][0])\n",
        "\treturn neighbors"
      ],
      "execution_count": 0,
      "outputs": []
    },
    {
      "cell_type": "markdown",
      "metadata": {
        "id": "gRDqYcRCyAmj",
        "colab_type": "text"
      },
      "source": [
        "* dataplot(data)\n",
        "  - data list를 입력받아 2차원 좌표로 그리기"
      ]
    },
    {
      "cell_type": "code",
      "metadata": {
        "id": "5OFUazodZte7",
        "colab_type": "code",
        "colab": {}
      },
      "source": [
        "def dataplot(data):\n",
        "  for row in data:\n",
        "\t  if row[2] == 1:\n",
        "\t\t  plt.plot(row[0], row[1], 'ro', label = 'class 1')\n",
        "\t  else:\n",
        "\t\t  plt.plot(row[0], row[1], 'bo', label = 'class 2')"
      ],
      "execution_count": 0,
      "outputs": []
    },
    {
      "cell_type": "markdown",
      "metadata": {
        "id": "L6oU5nn5ymqP",
        "colab_type": "text"
      },
      "source": [
        "* predict_classification((train, test_row, num_neighbors)\n",
        "  - train 데이터에서 test_row 에 대해서 num_neighbors 개의 인접 데이터를 이용하여 예측"
      ]
    },
    {
      "cell_type": "code",
      "metadata": {
        "id": "HlwwOQ10N_dY",
        "colab_type": "code",
        "colab": {}
      },
      "source": [
        "# Make a classification prediction with neighbors\n",
        "def predict_classification(train, test_row, num_neighbors):\n",
        "\tneighbors = get_neighbors(train, test_row, num_neighbors)\n",
        "\tfor neighbor in neighbors:\n",
        "\t\tprint(neighbor)\n",
        "\toutput_values = [row[-1] for row in neighbors]\n",
        "\tprediction = max(set(output_values), key=output_values.count)\n",
        "\treturn prediction"
      ],
      "execution_count": 0,
      "outputs": []
    },
    {
      "cell_type": "markdown",
      "metadata": {
        "id": "Mpgi3He2rmvF",
        "colab_type": "text"
      },
      "source": [
        "### **3. 데이터 셋 만들기** "
      ]
    },
    {
      "cell_type": "code",
      "metadata": {
        "id": "OCA82yz4GXO8",
        "colab_type": "code",
        "colab": {
          "base_uri": "https://localhost:8080/",
          "height": 264
        },
        "outputId": "1c2fe182-3eaa-4c76-98fa-4849db6a5582"
      },
      "source": [
        "# Make data set\n",
        "\n",
        "# Test distance function\n",
        "# [x, y, type]\n",
        "\n",
        "dataset = [[2.7810836,2.550537003,0],\n",
        "\t[1.465489372,2.362125076,0],\n",
        "\t[3.396561688,4.400293529,0],\n",
        "\t[1.38807019,1.850220317,0],\n",
        "\t[3.06407232,3.005305973,0],\n",
        "\t[7.627531214,2.759262235,1],\n",
        "\t[5.332441248,2.088626775,1],\n",
        "\t[6.922596716,1.77106367,1],\n",
        "\t[8.675418651,-0.242068655,1],\n",
        "\t[7.673756466,3.508563011,1]]\n",
        "\n",
        "dataplot(dataset)"
      ],
      "execution_count": 70,
      "outputs": [
        {
          "output_type": "display_data",
          "data": {
            "image/png": "[encoded data removed]",
            "text/plain": [
              "<Figure size 432x288 with 1 Axes>"
            ]
          },
          "metadata": {
            "tags": [],
            "needs_background": "light"
          }
        }
      ]
    },
    {
      "cell_type": "markdown",
      "metadata": {
        "id": "T1l1kmYjL5b5",
        "colab_type": "text"
      },
      "source": [
        "### (검증용 코드) 이미 구현한 함수들을 검증하는 코드**\n",
        "\n",
        "* 임의의 점 (3, 3)을 기준으로 거리 구하는 기능 검증용 코드"
      ]
    },
    {
      "cell_type": "code",
      "metadata": {
        "id": "3PnQ6jxGL7xb",
        "colab_type": "code",
        "outputId": "05f5c10f-885a-40f1-d2e9-35cc1b081f05",
        "colab": {
          "base_uri": "https://localhost:8080/",
          "height": 431
        }
      },
      "source": [
        "row0 = [3,3]\n",
        "\n",
        "dataplot(dataset)\t\n",
        "plt.plot(row0[0], row[1], 'g+')\n",
        "plt.show()\n",
        "\n",
        "\n",
        "## distance 출력\n",
        "for row in dataset:\n",
        "\tdistance = euclidean_distance(row0, row)\n",
        "\tprint(\"[\", row[0], \",\", row[1], \"]\", ':', distance)\n",
        "  "
      ],
      "execution_count": 72,
      "outputs": [
        {
          "output_type": "display_data",
          "data": {
            "image/png": "[encoded data removed]",
            "text/plain": [
              "<Figure size 432x288 with 1 Axes>"
            ]
          },
          "metadata": {
            "tags": [],
            "needs_background": "light"
          }
        },
        {
          "output_type": "stream",
          "text": [
            "[ 2.7810836 , 2.550537003 ] : 0.2189163999999999\n",
            "[ 1.465489372 , 2.362125076 ] : 1.534510628\n",
            "[ 3.396561688 , 4.400293529 ] : 0.3965616879999998\n",
            "[ 1.38807019 , 1.850220317 ] : 1.61192981\n",
            "[ 3.06407232 , 3.005305973 ] : 0.06407232000000018\n",
            "[ 7.627531214 , 2.759262235 ] : 4.627531214\n",
            "[ 5.332441248 , 2.088626775 ] : 2.3324412480000003\n",
            "[ 6.922596716 , 1.77106367 ] : 3.922596716\n",
            "[ 8.675418651 , -0.242068655 ] : 5.675418650999999\n",
            "[ 7.673756466 , 3.508563011 ] : 4.673756466\n"
          ],
          "name": "stdout"
        }
      ]
    },
    {
      "cell_type": "markdown",
      "metadata": {
        "id": "hQrw4pCqMp4a",
        "colab_type": "text"
      },
      "source": [
        "* 임의의 점 (3, 3)에서 가까운 데이터 3개를 구하는 검증욜 코드 "
      ]
    },
    {
      "cell_type": "markdown",
      "metadata": {
        "id": "MmoI8fhuM1pE",
        "colab_type": "text"
      },
      "source": [
        "train 변수는 데이터 셋, test_row는 측정하고자 하는 좌표, num_neighbor 변수가 K를 의미 "
      ]
    },
    {
      "cell_type": "code",
      "metadata": {
        "id": "irwq2_4lNBLn",
        "colab_type": "code",
        "outputId": "65ee82aa-846f-4ae1-9fe6-2cbce1b792c2",
        "colab": {
          "base_uri": "https://localhost:8080/",
          "height": 66
        }
      },
      "source": [
        "neighbors = get_neighbors(dataset, row0, 3)\n",
        "for neighbor in neighbors:\n",
        "\tprint(neighbor)"
      ],
      "execution_count": 53,
      "outputs": [
        {
          "output_type": "stream",
          "text": [
            "[3.06407232, 3.005305973, 0]\n",
            "[2.7810836, 2.550537003, 0]\n",
            "[3.396561688, 4.400293529, 0]\n"
          ],
          "name": "stdout"
        }
      ]
    },
    {
      "cell_type": "markdown",
      "metadata": {
        "id": "Tm3oMNIeN7GJ",
        "colab_type": "text"
      },
      "source": [
        "### **4. 새로운 데이터에 대한 예측**\n",
        "\n",
        "테스트 데이터: (3, 4)"
      ]
    },
    {
      "cell_type": "code",
      "metadata": {
        "id": "xIHhsnFYOEKy",
        "colab_type": "code",
        "outputId": "2f8e4d8c-7e72-4d23-b35e-67307de66546",
        "colab": {
          "base_uri": "https://localhost:8080/",
          "height": 331
        }
      },
      "source": [
        "row0 = [3, 4, 0]\n",
        "\n",
        "dataplot(dataset)\t\n",
        "plt.plot(row0[0], row[1], 'g+')\n",
        "plt.show()\n",
        "\n",
        "prediction = predict_classification(dataset, row0, 3)\n",
        "print('Expected %d, Got %d.' % (row0[-1], prediction))"
      ],
      "execution_count": 73,
      "outputs": [
        {
          "output_type": "display_data",
          "data": {
            "image/png": "[encoded data removed]",
            "text/plain": [
              "<Figure size 432x288 with 1 Axes>"
            ]
          },
          "metadata": {
            "tags": [],
            "needs_background": "light"
          }
        },
        {
          "output_type": "stream",
          "text": [
            "[3.396561688, 4.400293529, 0]\n",
            "[3.06407232, 3.005305973, 0]\n",
            "[2.7810836, 2.550537003, 0]\n",
            "Expected 0, Got 0.\n"
          ],
          "name": "stdout"
        }
      ]
    },
    {
      "cell_type": "code",
      "metadata": {
        "id": "Jcu99aYxOQ0p",
        "colab_type": "code",
        "outputId": "125e4bdf-d2bf-4d32-c6b9-f7167b3a689e",
        "colab": {
          "base_uri": "https://localhost:8080/",
          "height": 331
        }
      },
      "source": [
        "row0 = [6,5,0]\n",
        "\n",
        "dataplot(dataset)\t\n",
        "plt.plot(row0[0], row[1], 'g+')\n",
        "plt.show()\n",
        "\n",
        "prediction = predict_classification(dataset, row0, 3)\n",
        "print('Expected %d, Got %d.' % (row0[-1], prediction))"
      ],
      "execution_count": 74,
      "outputs": [
        {
          "output_type": "display_data",
          "data": {
            "image/png": "[encoded data removed]",
            "text/plain": [
              "<Figure size 432x288 with 1 Axes>"
            ]
          },
          "metadata": {
            "tags": [],
            "needs_background": "light"
          }
        },
        {
          "output_type": "stream",
          "text": [
            "[7.673756466, 3.508563011, 1]\n",
            "[3.396561688, 4.400293529, 0]\n",
            "[7.627531214, 2.759262235, 1]\n",
            "Expected 0, Got 1.\n"
          ],
          "name": "stdout"
        }
      ]
    },
    {
      "cell_type": "markdown",
      "metadata": {
        "id": "MOyYiFnTqZ_D",
        "colab_type": "text"
      },
      "source": [
        "## **II. 새로운 예제**"
      ]
    },
    {
      "cell_type": "code",
      "metadata": {
        "id": "6Zi7HFIp1wWq",
        "colab_type": "code",
        "colab": {
          "base_uri": "https://localhost:8080/",
          "height": 50
        },
        "outputId": "ffeed2e1-255a-430d-a650-ba07dd6bd575"
      },
      "source": [
        "num_points_each_cluster = 100\n",
        "mu1 = [-0.4, 3]\n",
        "covar1 = [[1.3,0],[0,1]]\n",
        "mu2 = [0.5, 0.75]\n",
        "covar2 = [[2.2,1.2],[1.8,2.1]]\n",
        "X1 = np.random.multivariate_normal(mu1, covar1, num_points_each_cluster)\n",
        "X2 = np.random.multivariate_normal(mu2, covar2, num_points_each_cluster)\n",
        "y1 = np.ones(num_points_each_cluster)\n",
        "y2 = np.zeros(num_points_each_cluster)"
      ],
      "execution_count": 75,
      "outputs": [
        {
          "output_type": "stream",
          "text": [
            "/usr/local/lib/python3.6/dist-packages/ipykernel_launcher.py:7: RuntimeWarning: covariance is not positive-semidefinite.\n",
            "  import sys\n"
          ],
          "name": "stderr"
        }
      ]
    }
  ]
}