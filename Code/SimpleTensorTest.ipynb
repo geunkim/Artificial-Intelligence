{
  "nbformat": 4,
  "nbformat_minor": 0,
  "metadata": {
    "colab": {
      "name": "SimpleTensorTest.ipynb",
      "provenance": [],
      "authorship_tag": "ABX9TyNzhsOIqnhFgmevbB4FjlN5",
      "include_colab_link": true
    },
    "kernelspec": {
      "name": "python3",
      "display_name": "Python 3"
    }
  },
  "cells": [
    {
      "cell_type": "markdown",
      "metadata": {
        "id": "view-in-github",
        "colab_type": "text"
      },
      "source": [
        "<a href=\"https://colab.research.google.com/github/geunkim/Artificial-Intelligence/blob/master/Code/SimpleTensorTest.ipynb\" target=\"_parent\"><img src=\"https://colab.research.google.com/assets/colab-badge.svg\" alt=\"Open In Colab\"/></a>"
      ]
    },
    {
      "cell_type": "markdown",
      "metadata": {
        "id": "qrfw4mXyo3Pr",
        "colab_type": "text"
      },
      "source": [
        "# TensorFlow 2.0\n",
        "\n",
        "A simple page for tensorFloe 2.0 "
      ]
    },
    {
      "cell_type": "markdown",
      "metadata": {
        "id": "KIlpkCqFqSPm",
        "colab_type": "text"
      },
      "source": [
        "  * 필요한 numpy와 tensorflow를 import"
      ]
    },
    {
      "cell_type": "code",
      "metadata": {
        "id": "YPO5GjfApj-t",
        "colab_type": "code",
        "colab": {}
      },
      "source": [
        "import numpy as np\n",
        "import tensorflow as tf"
      ],
      "execution_count": 0,
      "outputs": []
    },
    {
      "cell_type": "markdown",
      "metadata": {
        "id": "OOZOV1tFShqT",
        "colab_type": "text"
      },
      "source": [
        "  * tensorflow version 출력"
      ]
    },
    {
      "cell_type": "code",
      "metadata": {
        "id": "3CG5_Dr-p35r",
        "colab_type": "code",
        "colab": {}
      },
      "source": [
        "print(tf.__version__)"
      ],
      "execution_count": 0,
      "outputs": []
    },
    {
      "cell_type": "markdown",
      "metadata": {
        "id": "C5MKsvSnS1G3",
        "colab_type": "text"
      },
      "source": [
        "  * tensorflow eager mode가 설정되었는지 확인"
      ]
    },
    {
      "cell_type": "code",
      "metadata": {
        "id": "flRa1dYeS9Nj",
        "colab_type": "code",
        "colab": {}
      },
      "source": [
        "tf.executing_eagerly()"
      ],
      "execution_count": 0,
      "outputs": []
    },
    {
      "cell_type": "markdown",
      "metadata": {
        "id": "dwzY7LaQTsD8",
        "colab_type": "text"
      },
      "source": [
        "  * Defining Tensors (텐서 정의)"
      ]
    },
    {
      "cell_type": "code",
      "metadata": {
        "id": "tunHO-I_T4cL",
        "colab_type": "code",
        "colab": {}
      },
      "source": [
        "m1 = [[1.0, 2.0],\n",
        "      [3.0, 4.0]]       \n",
        "m2 = np.array([[1.0, 2.0],\n",
        "               [3.0, 4.0]], dtype=np.float32) \n",
        "m3 = tf.constant([[1.0, 2.0],\n",
        "                  [3.0, 4.0]])"
      ],
      "execution_count": 0,
      "outputs": []
    },
    {
      "cell_type": "code",
      "metadata": {
        "id": "pw9wpwW-Uc3Q",
        "colab_type": "code",
        "colab": {}
      },
      "source": [
        "print(type(m1))\n",
        "print(type(m2))\n",
        "print(type(m3))"
      ],
      "execution_count": 0,
      "outputs": []
    },
    {
      "cell_type": "markdown",
      "metadata": {
        "id": "4LfKyqrPV_le",
        "colab_type": "text"
      },
      "source": [
        "  * Convert to Tensor (텐서로 변환)"
      ]
    },
    {
      "cell_type": "code",
      "metadata": {
        "id": "3cYNy_40V9Fe",
        "colab_type": "code",
        "colab": {}
      },
      "source": [
        "t1 = tf.convert_to_tensor(m1, dtype=tf.float32)\n",
        "t2 = tf.convert_to_tensor(m2, dtype=tf.float32)\n",
        "t3 = tf.convert_to_tensor(m3, dtype=tf.float32)"
      ],
      "execution_count": 0,
      "outputs": []
    },
    {
      "cell_type": "code",
      "metadata": {
        "colab_type": "code",
        "id": "cUak1WnqWXBB",
        "colab": {}
      },
      "source": [
        "print(type(t1))\n",
        "print(type(t2))\n",
        "print(type(t3))"
      ],
      "execution_count": 0,
      "outputs": []
    },
    {
      "cell_type": "code",
      "metadata": {
        "id": "qKVDCenxWqmq",
        "colab_type": "code",
        "colab": {}
      },
      "source": [
        "print(t1)"
      ],
      "execution_count": 0,
      "outputs": []
    },
    {
      "cell_type": "markdown",
      "metadata": {
        "id": "z1DzGdlhXW2O",
        "colab_type": "text"
      },
      "source": [
        "  * Create a Dataset"
      ]
    },
    {
      "cell_type": "code",
      "metadata": {
        "id": "yLbCDuPtXe5-",
        "colab_type": "code",
        "colab": {}
      },
      "source": [
        "a = np.arange(10)\n",
        "print(a)\n",
        "ds_tensors = tf.data.Dataset.from_tensor_slices(a)\n",
        "print(ds_tensors)"
      ],
      "execution_count": 0,
      "outputs": []
    },
    {
      "cell_type": "markdown",
      "metadata": {
        "id": "-0oB0snJX6Cp",
        "colab_type": "text"
      },
      "source": [
        "  * Apply Transformations"
      ]
    }
  ]
}