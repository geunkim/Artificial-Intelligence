{
  "nbformat": 4,
  "nbformat_minor": 0,
  "metadata": {
    "colab": {
      "name": "Entropy.ipynb",
      "provenance": [],
      "collapsed_sections": [],
      "authorship_tag": "ABX9TyMypDARA65wT5vLNgzh5VqV",
      "include_colab_link": true
    },
    "kernelspec": {
      "name": "python3",
      "display_name": "Python 3"
    }
  },
  "cells": [
    {
      "cell_type": "markdown",
      "metadata": {
        "id": "view-in-github",
        "colab_type": "text"
      },
      "source": [
        "<a href=\"https://colab.research.google.com/github/geunkim/Artificial-Intelligence/blob/master/Code/Entropy.ipynb\" target=\"_parent\"><img src=\"https://colab.research.google.com/assets/colab-badge.svg\" alt=\"Open In Colab\"/></a>"
      ]
    },
    {
      "cell_type": "markdown",
      "metadata": {
        "id": "Y338uRmwkLPJ",
        "colab_type": "text"
      },
      "source": [
        "# **Entropy(엔트로피), KL Divergence, Cross-Entropy(크로스 엔트로피) 이해하기** "
      ]
    },
    {
      "cell_type": "code",
      "metadata": {
        "id": "klW7I2tTkF4Y",
        "colab_type": "code",
        "colab": {}
      },
      "source": [
        "import numpy as np"
      ],
      "execution_count": 0,
      "outputs": []
    },
    {
      "cell_type": "code",
      "metadata": {
        "id": "jFSLWE8Cvn91",
        "colab_type": "code",
        "outputId": "d003207b-7a4f-447b-c2ad-aa074d690959",
        "colab": {
          "base_uri": "https://localhost:8080/",
          "height": 34
        }
      },
      "source": [
        "np.log2(2)"
      ],
      "execution_count": 0,
      "outputs": [
        {
          "output_type": "execute_result",
          "data": {
            "text/plain": [
              "1.0"
            ]
          },
          "metadata": {
            "tags": []
          },
          "execution_count": 3
        }
      ]
    },
    {
      "cell_type": "markdown",
      "metadata": {
        "id": "ylqFGIBVkY71",
        "colab_type": "text"
      },
      "source": [
        "1. 박스에 검정색 공과 흰색 공에 50개 50개 있을 때 엔트로피는?\n",
        "\n",
        "\n",
        "$-(0.5{\\cdot}log_2(0.5) + 0.5{\\cdot}log_2(0.5))$\n",
        "\n",
        "\n"
      ]
    },
    {
      "cell_type": "code",
      "metadata": {
        "id": "gq2x5z0qmban",
        "colab_type": "code",
        "outputId": "7337dd07-b589-40cb-b975-fe5894ba795b",
        "colab": {
          "base_uri": "https://localhost:8080/",
          "height": 34
        }
      },
      "source": [
        "-(0.5 * np.log2(0.5) + 0.5 * np.log2(0.5))"
      ],
      "execution_count": 0,
      "outputs": [
        {
          "output_type": "execute_result",
          "data": {
            "text/plain": [
              "1.0"
            ]
          },
          "metadata": {
            "tags": []
          },
          "execution_count": 4
        }
      ]
    },
    {
      "cell_type": "markdown",
      "metadata": {
        "id": "4wDB3jkom2ZD",
        "colab_type": "text"
      },
      "source": [
        "2 박스에 흰색 공이 99개 검정색 공이 1개이 있을 때 엔트로피는? "
      ]
    },
    {
      "cell_type": "code",
      "metadata": {
        "id": "ybSe-MSNnDTn",
        "colab_type": "code",
        "outputId": "274c9cac-4600-4362-d6f3-069bf3144431",
        "colab": {
          "base_uri": "https://localhost:8080/",
          "height": 34
        }
      },
      "source": [
        "-(0.99*np.log2(0.99) + 0.01 * np.log2(0.01))"
      ],
      "execution_count": 0,
      "outputs": [
        {
          "output_type": "execute_result",
          "data": {
            "text/plain": [
              "0.08079313589591118"
            ]
          },
          "metadata": {
            "tags": []
          },
          "execution_count": 5
        }
      ]
    },
    {
      "cell_type": "markdown",
      "metadata": {
        "id": "T7btcsxIot69",
        "colab_type": "text"
      },
      "source": [
        "3. 박스에 100개의 공이 모두 다른 색일 때 엔트로피는? "
      ]
    },
    {
      "cell_type": "code",
      "metadata": {
        "id": "WR97N2eopdO0",
        "colab_type": "code",
        "outputId": "42b369ca-19c4-4ccc-f6f4-b5d7d51bad86",
        "colab": {
          "base_uri": "https://localhost:8080/",
          "height": 34
        }
      },
      "source": [
        "sum = 0\n",
        "for i in range(100):\n",
        "  sum += -(1/100)*np.log2(1/100)\n",
        "sum"
      ],
      "execution_count": 0,
      "outputs": [
        {
          "output_type": "execute_result",
          "data": {
            "text/plain": [
              "6.6438561897747395"
            ]
          },
          "metadata": {
            "tags": []
          },
          "execution_count": 6
        }
      ]
    },
    {
      "cell_type": "markdown",
      "metadata": {
        "id": "VhWPFwLKqq7V",
        "colab_type": "text"
      },
      "source": [
        "4. 박스에 256개의 공이 모두 다른 색일 때 엔트로피는?"
      ]
    },
    {
      "cell_type": "code",
      "metadata": {
        "id": "PopuPfXQpwTp",
        "colab_type": "code",
        "outputId": "fd4e8d62-fae5-437d-99ee-3b124208ab64",
        "colab": {
          "base_uri": "https://localhost:8080/",
          "height": 34
        }
      },
      "source": [
        "sum = 0\n",
        "for i in range(256):\n",
        "  sum += -(1/256)*np.log2(1/256)\n",
        "sum"
      ],
      "execution_count": 0,
      "outputs": [
        {
          "output_type": "execute_result",
          "data": {
            "text/plain": [
              "8.0"
            ]
          },
          "metadata": {
            "tags": []
          },
          "execution_count": 7
        }
      ]
    },
    {
      "cell_type": "markdown",
      "metadata": {
        "id": "Eu5m5gjPrjQA",
        "colab_type": "text"
      },
      "source": [
        "5. 박스에 공이 512개 있고 흰색 공이 1개 검정 색 공이 511개 있을 때의 엔트로피는?이탤릭체 텍스트"
      ]
    },
    {
      "cell_type": "code",
      "metadata": {
        "id": "C_9Uve1urvdp",
        "colab_type": "code",
        "outputId": "a693034a-6f7f-4acc-cdd7-9d1eccd097b6",
        "colab": {
          "base_uri": "https://localhost:8080/",
          "height": 34
        }
      },
      "source": [
        "(1/512)*-np.log2(1/512) + (511/512)*-np.log2(511/512)"
      ],
      "execution_count": 0,
      "outputs": [
        {
          "output_type": "execute_result",
          "data": {
            "text/plain": [
              "0.020393135236084953"
            ]
          },
          "metadata": {
            "tags": []
          },
          "execution_count": 8
        }
      ]
    },
    {
      "cell_type": "markdown",
      "metadata": {
        "id": "Eof5Jga_q3Bt",
        "colab_type": "text"
      },
      "source": [
        "**엔트로피는 불확실성의 척도로 정보의 유사성이 적을수록 엔트로피는 증가한다.**"
      ]
    },
    {
      "cell_type": "markdown",
      "metadata": {
        "id": "E-XCT0bo5ssF",
        "colab_type": "text"
      },
      "source": [
        "* $log_2(x)$ 함수 그래프 그리기"
      ]
    },
    {
      "cell_type": "code",
      "metadata": {
        "id": "C8qoqikb5-Tm",
        "colab_type": "code",
        "outputId": "6f32e600-4439-4aec-a339-ea77fff05a6a",
        "colab": {
          "base_uri": "https://localhost:8080/",
          "height": 279
        }
      },
      "source": [
        "import numpy as np\n",
        "from matplotlib import pyplot as plt\n",
        "\n",
        "x = np.arange(0.01, 6, 0.01)\n",
        "y = np.log2(x)\n",
        "plt.plot(x, y, 'r')\n",
        "plt.grid(True)\n",
        "# x, y 축에 이름 넣기\n",
        "plt.xlabel('x')\n",
        "plt.ylabel('y')\n",
        "plt.show()"
      ],
      "execution_count": 0,
      "outputs": [
        {
          "output_type": "display_data",
          "data": {
            "image/png": "[encoded data removed]",
            "text/plain": [
              "<Figure size 432x288 with 1 Axes>"
            ]
          },
          "metadata": {
            "tags": [],
            "needs_background": "light"
          }
        }
      ]
    },
    {
      "cell_type": "markdown",
      "metadata": {
        "id": "rSZoLSXE06Qq",
        "colab_type": "text"
      },
      "source": [
        "## **Kullback-Leibler (KL) divergence** \n",
        "\n",
        "<referece: https://towardsdatascience.com/kl-divergence-python-example-b87069e4b810>\n",
        "\n",
        "KL divergence는 두 확률분포(probability distribution)간의 거리를 정량화하는 도구\n",
        "\n",
        "$p$ 와 $q$가 이산랜덤변수(discrete random variable)의 확률분포일 때 \n",
        "K-L divergence 는 \n",
        "\n",
        "$KL(p||q) = -\\sum p_i(x)[log(q_i(x))-log(p_i(x)]$"
      ]
    },
    {
      "cell_type": "code",
      "metadata": {
        "id": "XhYA1vcjaf9-",
        "colab_type": "code",
        "outputId": "46bbba03-fdd5-4324-be9d-2c4775bc6b1d",
        "colab": {
          "base_uri": "https://localhost:8080/",
          "height": 34
        }
      },
      "source": [
        "import tensorflow as tf\n",
        "m = tf.keras.metrics.KLDivergence()\n",
        "m.update_state([.8, .1, .1],[.6, .2, .2])\n",
        "print('Final result:', m.result().numpy())"
      ],
      "execution_count": 0,
      "outputs": [
        {
          "output_type": "stream",
          "text": [
            "Final result: 0.09151618\n"
          ],
          "name": "stdout"
        }
      ]
    },
    {
      "cell_type": "markdown",
      "metadata": {
        "id": "CjFjJ8ha4s8p",
        "colab_type": "text"
      },
      "source": [
        "##### **1. 필요한 라이브러러 임포트(import)** "
      ]
    },
    {
      "cell_type": "code",
      "metadata": {
        "id": "NbMUuXYZ4qgG",
        "colab_type": "code",
        "colab": {}
      },
      "source": [
        "import numpy as np\n",
        "from scipy.stats import norm\n",
        "from matplotlib import pyplot as plt\n",
        "import tensorflow as tf\n",
        "#import seaborn as sns\n",
        "#sns.set()"
      ],
      "execution_count": 0,
      "outputs": []
    },
    {
      "cell_type": "markdown",
      "metadata": {
        "id": "hju22Xol5VFa",
        "colab_type": "text"
      },
      "source": [
        "#### **2. KL divergence 함수 구현** "
      ]
    },
    {
      "cell_type": "code",
      "metadata": {
        "id": "b8zFoiyr-QIA",
        "colab_type": "code",
        "colab": {}
      },
      "source": [
        "def kl_divergence(p, q):\n",
        "  return np.sum(np.where(p != 0, p*np.log(p/q), 0))"
      ],
      "execution_count": 0,
      "outputs": []
    },
    {
      "cell_type": "markdown",
      "metadata": {
        "id": "PE9E9LOK_rCH",
        "colab_type": "text"
      },
      "source": [
        "#### **3. 두 확률분포 간의 KL divergence 구하기** \n",
        "  + $p(x)$: 평균이 0이고 표준편차가 2인 정규분포\n",
        "  + $q(x)$: 평균이 2이고 표준편차가 2인 정규분포\n"
      ]
    },
    {
      "cell_type": "markdown",
      "metadata": {
        "id": "WU0NFMgRjcsV",
        "colab_type": "text"
      },
      "source": [
        "##### **(1) 직접 만든 함수를 사용한 경우**"
      ]
    },
    {
      "cell_type": "code",
      "metadata": {
        "id": "zKxAKbu_ASd5",
        "colab_type": "code",
        "outputId": "87284961-b5e3-4707-de3e-1a83fbb40312",
        "colab": {
          "base_uri": "https://localhost:8080/",
          "height": 298
        }
      },
      "source": [
        "x = np.arange(-10, 10, 0.001)\n",
        "p = norm.pdf(x, 0, 2)\n",
        "q = norm.pdf(x, 2, 2)\n",
        "\n",
        "plt.title('KL(P||q) = %1.3f' % kl_divergence(p, q))\n",
        "plt.plot(x, p, c='green')\n",
        "plt.plot(x, q, c='blue')"
      ],
      "execution_count": 0,
      "outputs": [
        {
          "output_type": "execute_result",
          "data": {
            "text/plain": [
              "[<matplotlib.lines.Line2D at 0x7f36174791d0>]"
            ]
          },
          "metadata": {
            "tags": []
          },
          "execution_count": 7
        },
        {
          "output_type": "display_data",
          "data": {
            "image/png": "[encoded data removed]",
            "text/plain": [
              "<Figure size 432x288 with 1 Axes>"
            ]
          },
          "metadata": {
            "tags": [],
            "needs_background": "light"
          }
        }
      ]
    },
    {
      "cell_type": "markdown",
      "metadata": {
        "id": "dh-mMM4mjWs5",
        "colab_type": "text"
      },
      "source": [
        "##### **(2) 케라스의 metrics.KLDivergence() 함수를 사용한 경우**"
      ]
    },
    {
      "cell_type": "code",
      "metadata": {
        "id": "XeB36KsLbS6u",
        "colab_type": "code",
        "outputId": "dfc46c3d-60e5-4e22-efee-7c793cb5e9ed",
        "colab": {
          "base_uri": "https://localhost:8080/",
          "height": 34
        }
      },
      "source": [
        "m = tf.keras.metrics.KLDivergence()\n",
        "m.update_state(p, q)\n",
        "print('Final result:', m.result().numpy())"
      ],
      "execution_count": 0,
      "outputs": [
        {
          "output_type": "stream",
          "text": [
            "Final result: 499.99426\n"
          ],
          "name": "stdout"
        }
      ]
    },
    {
      "cell_type": "markdown",
      "metadata": {
        "id": "GuaW2A-2ClQE",
        "colab_type": "text"
      },
      "source": [
        "#### **4. 다른 확률분포와의  KL-divergence 구하기** \n",
        "  * $q(x)$: 평균이 5이고 표준편차가 4인 정규분포  "
      ]
    },
    {
      "cell_type": "markdown",
      "metadata": {
        "id": "gTaxzN1Qj3HG",
        "colab_type": "text"
      },
      "source": [
        "##### **(1) 직접 만든 함수를 사용한 경우**"
      ]
    },
    {
      "cell_type": "code",
      "metadata": {
        "id": "ceofQMYIDVhh",
        "colab_type": "code",
        "outputId": "3153263f-1be7-424d-c581-7938ee791727",
        "colab": {
          "base_uri": "https://localhost:8080/",
          "height": 298
        }
      },
      "source": [
        "q = norm.pdf(x, 5, 4)\n",
        "\n",
        "plt.title('KL(P||q) = %1.3f' %kl_divergence(p, q))\n",
        "plt.plot(x, p, c='green')\n",
        "plt.plot(x, q, c='red')"
      ],
      "execution_count": 0,
      "outputs": [
        {
          "output_type": "execute_result",
          "data": {
            "text/plain": [
              "[<matplotlib.lines.Line2D at 0x7f3616f75c50>]"
            ]
          },
          "metadata": {
            "tags": []
          },
          "execution_count": 9
        },
        {
          "output_type": "display_data",
          "data": {
            "image/png": "[encoded data removed]",
            "text/plain": [
              "<Figure size 432x288 with 1 Axes>"
            ]
          },
          "metadata": {
            "tags": [],
            "needs_background": "light"
          }
        }
      ]
    },
    {
      "cell_type": "markdown",
      "metadata": {
        "id": "dEDGbBQjkGsh",
        "colab_type": "text"
      },
      "source": [
        "##### **(2) 케라스의 metrics.KLDivergence() 함수를 사용한 경우**\n"
      ]
    },
    {
      "cell_type": "code",
      "metadata": {
        "id": "jjkG2InUcPfL",
        "colab_type": "code",
        "outputId": "53f05fe9-9d6f-47e6-fe10-46ebc56234dc",
        "colab": {
          "base_uri": "https://localhost:8080/",
          "height": 34
        }
      },
      "source": [
        "m = tf.keras.metrics.KLDivergence()\n",
        "m.update_state(p, q)\n",
        "print('Final result:', m.result().numpy())"
      ],
      "execution_count": 0,
      "outputs": [
        {
          "output_type": "stream",
          "text": [
            "Final result: 1099.4021\n"
          ],
          "name": "stdout"
        }
      ]
    },
    {
      "cell_type": "markdown",
      "metadata": {
        "id": "PQ3qHJrtEQ8V",
        "colab_type": "text"
      },
      "source": [
        "#### **4. $q(x)$ 가 $p(x)$ 와 같은 경우의 KL-Divergence 구하기**\n",
        "\n",
        "##### **(1) 직접 만든 함수를 사용한 경우**"
      ]
    },
    {
      "cell_type": "code",
      "metadata": {
        "id": "JTDV2DAGEg3v",
        "colab_type": "code",
        "outputId": "0e473654-ec2b-4438-9e44-3970a1601b85",
        "colab": {
          "base_uri": "https://localhost:8080/",
          "height": 298
        }
      },
      "source": [
        "q = norm.pdf(x, 0.01, 2)\n",
        "\n",
        "plt.title('KL(P||q) = %1.3f' %kl_divergence(p, q))\n",
        "plt.plot(x, p, c='green')\n",
        "plt.plot(x, q, c='red')"
      ],
      "execution_count": 0,
      "outputs": [
        {
          "output_type": "execute_result",
          "data": {
            "text/plain": [
              "[<matplotlib.lines.Line2D at 0x7f3616ef2390>]"
            ]
          },
          "metadata": {
            "tags": []
          },
          "execution_count": 11
        },
        {
          "output_type": "display_data",
          "data": {
            "image/png": "[encoded data removed]",
            "text/plain": [
              "<Figure size 432x288 with 1 Axes>"
            ]
          },
          "metadata": {
            "tags": [],
            "needs_background": "light"
          }
        }
      ]
    },
    {
      "cell_type": "markdown",
      "metadata": {
        "id": "y44FGCnskJUA",
        "colab_type": "text"
      },
      "source": [
        "##### **(2) 케라스의 metrics.KLDivergence() 함수를 사용한 경우**"
      ]
    },
    {
      "cell_type": "code",
      "metadata": {
        "id": "HXzTN9BtbhHk",
        "colab_type": "code",
        "outputId": "cea49785-f336-4009-ec9c-395049be775c",
        "colab": {
          "base_uri": "https://localhost:8080/",
          "height": 34
        }
      },
      "source": [
        "m = tf.keras.metrics.KLDivergence()\n",
        "m.update_state(p, q)\n",
        "print('Final result:', m.result().numpy())"
      ],
      "execution_count": 0,
      "outputs": [
        {
          "output_type": "stream",
          "text": [
            "Final result: 0.07087753\n"
          ],
          "name": "stdout"
        }
      ]
    },
    {
      "cell_type": "markdown",
      "metadata": {
        "id": "R5bhivyLF_ll",
        "colab_type": "text"
      },
      "source": [
        "#### **5.  KL Divergence 최소화하기 (for future work)**\n",
        "\n",
        "gradient descent(경사 하강법)을 사용하여 두 개의 확률분포 간의 KL Divergence를 최소화 \n",
        "\n",
        "* $p(x)$: 평균이 0이고 분산이 표준편차가 2인 정규분포\n",
        "* $q(x)$: 랜덤 평균과 표준편차의 정규분포 "
      ]
    },
    {
      "cell_type": "code",
      "metadata": {
        "id": "kllOYsgfH-L-",
        "colab_type": "code",
        "colab": {}
      },
      "source": [
        "x = np.arange(-10, 10, 0.001)\n",
        "p = norm.pdf(x, 0, 2).reshape(-1,1)\n",
        "np.random.seed(2)\n",
        "random_mean = np.random.randint(10, size=1)\n",
        "random_sigma = np.random.randint(10, size=1)\n",
        "q = norm.pdf(x, random_mean, random_sigma).reshape(-1, 1)\n",
        "\n",
        "plt.plot(x, p, c='green')\n",
        "plt.plot(x, q, c='red')"
      ],
      "execution_count": 0,
      "outputs": []
    },
    {
      "cell_type": "markdown",
      "metadata": {
        "id": "YvrLdyvsRG8V",
        "colab_type": "text"
      },
      "source": [
        "###### (1) 학습을 위한 하이퍼파라미터 설정 (반복횟수, 학습율)\n",
        "  * learning rate(학습율): 0.001\n",
        "  * epochs(반복횟수): 100"
      ]
    },
    {
      "cell_type": "markdown",
      "metadata": {
        "id": "UK8PC_gVsRiZ",
        "colab_type": "text"
      },
      "source": [
        "## **cross entropy (크로스 엔트로피)**"
      ]
    },
    {
      "cell_type": "markdown",
      "metadata": {
        "id": "HM1x4Y4ystmY",
        "colab_type": "text"
      },
      "source": [
        "예측 모델에서 실제분포인 $p$를 모르고 모델링하여 $p$ 분포를 예측하고자 한다. 예측 모델링을 통해 구한 분포를 $q$ 라 하자. \n",
        "실제 분포인 $p$를 예측하는 $q$ 분포를 만들었을 때 cross-entropy는 다음과 같이 정의된다. \n",
        "\n",
        "$Hq(p)=-\\sum_{x=1}^Np(x)log(q(x))$"
      ]
    },
    {
      "cell_type": "markdown",
      "metadata": {
        "id": "48me8xG_u023",
        "colab_type": "text"
      },
      "source": [
        "훈련 데이터를 사용한 예측 모델에서 cross-entropy는 실제 분포와 예측 분포와의 차이(dissimilarity)를 계산하는데 사용할 수 있다. \n",
        "\n",
        "```\n",
        "cross entropy > entropy\n",
        "``` "
      ]
    },
    {
      "cell_type": "markdown",
      "metadata": {
        "id": "QowRs7_EvW6W",
        "colab_type": "text"
      },
      "source": [
        "예를 들어 박스에 0.8/0.1/0.1의 비율로 검정/흰색/회색 공이 들어있다. 이것의 예측을 0.2/0.2/0.6 비율이라고 예측을 하였다. 이때 엔트로피와 크로스 엔트로피는 다음과 같다. "
      ]
    },
    {
      "cell_type": "code",
      "metadata": {
        "id": "7PVrSOhOvwjl",
        "colab_type": "code",
        "outputId": "d40eac6a-806e-4f2a-9254-d89d6be48cbe",
        "colab": {
          "base_uri": "https://localhost:8080/",
          "height": 34
        }
      },
      "source": [
        "# 엔트로피 (Origin)\n",
        "e = -(0.8 * np.log(0.8) + 0.1 * np.log(0.1) + 0.1 * np.log(0.1))\n",
        "print('엔트로피: {}'.format(e))"
      ],
      "execution_count": 0,
      "outputs": [
        {
          "output_type": "stream",
          "text": [
            "엔트로피: 0.639031859650177\n"
          ],
          "name": "stdout"
        }
      ]
    },
    {
      "cell_type": "code",
      "metadata": {
        "id": "AYS_GVzTwMeF",
        "colab_type": "code",
        "outputId": "b7c328e5-50b4-4478-90bf-e830345bbf0b",
        "colab": {
          "base_uri": "https://localhost:8080/",
          "height": 34
        }
      },
      "source": [
        "# 크로스 엔트로피(0.2/0.2/0.6)\n",
        "e = -(0.8 * np.log(0.2) + 0.1 * np.log(0.2) + 0.1 * np.log(0.6))\n",
        "print('크로스 엔트로피(1): {}'.format(e))"
      ],
      "execution_count": 0,
      "outputs": [
        {
          "output_type": "stream",
          "text": [
            "크로스 엔트로피: 1.4995766835672895\n"
          ],
          "name": "stdout"
        }
      ]
    },
    {
      "cell_type": "code",
      "metadata": {
        "id": "tvGxD8McYjHh",
        "colab_type": "code",
        "outputId": "a2f95e02-6e48-419b-93ca-0be899fac8fb",
        "colab": {
          "base_uri": "https://localhost:8080/",
          "height": 34
        }
      },
      "source": [
        "# 크로스 엔트로피(0.6/0.15/0.25)\n",
        "e = -(0.8 * np.log(0.6) + 0.1 * np.log(0.15) + 0.1 * np.log(0.25))\n",
        "print('크로스 엔트로피(2): {}'.format(e))"
      ],
      "execution_count": 0,
      "outputs": [
        {
          "output_type": "stream",
          "text": [
            "크로스 엔트로피(1): 0.7370019336133699\n"
          ],
          "name": "stdout"
        }
      ]
    },
    {
      "cell_type": "code",
      "metadata": {
        "id": "XheESUSyY4fe",
        "colab_type": "code",
        "outputId": "0fc35f6e-5bd2-4dbc-f56e-d1e9fb018751",
        "colab": {
          "base_uri": "https://localhost:8080/",
          "height": 34
        }
      },
      "source": [
        "# 크로스 엔트로피(0.6/0.2/0.2)\n",
        "e = -(0.8 * np.log(0.6) + 0.1 * np.log(0.2) + 0.1 * np.log(0.2))\n",
        "print('크로스 엔트로피(3): {}'.format(e))"
      ],
      "execution_count": 0,
      "outputs": [
        {
          "output_type": "stream",
          "text": [
            "크로스 엔트로피(3): 0.7305480814996127\n"
          ],
          "name": "stdout"
        }
      ]
    },
    {
      "cell_type": "code",
      "metadata": {
        "id": "hw32_zxQZJt5",
        "colab_type": "code",
        "outputId": "c5033701-76c1-47db-c28e-2492dfc1ee37",
        "colab": {
          "base_uri": "https://localhost:8080/",
          "height": 34
        }
      },
      "source": [
        "# 크로스 엔트로피(0.7/0.15/0.15)\n",
        "e = -(0.8 * np.log(0.7) + 0.1 * np.log(0.15) + 0.1 * np.log(0.15))\n",
        "print('크로스 엔트로피(4): {}'.format(e))"
      ],
      "execution_count": 0,
      "outputs": [
        {
          "output_type": "stream",
          "text": [
            "크로스 엔트로피(4): 0.6647639521281622\n"
          ],
          "name": "stdout"
        }
      ]
    },
    {
      "cell_type": "code",
      "metadata": {
        "id": "GZ8ZVo3DZW7r",
        "colab_type": "code",
        "outputId": "602b3b51-96f5-45f7-c51c-7bc3682cbb8d",
        "colab": {
          "base_uri": "https://localhost:8080/",
          "height": 34
        }
      },
      "source": [
        "# 크로스 엔트로피(0.79/0.105/0.105)\n",
        "e = -(0.8 * np.log(0.79) + 0.1 * np.log(0.105) + 0.1 * np.log(0.105))\n",
        "print('크로스 엔트로피(5): {}'.format(e))"
      ],
      "execution_count": 0,
      "outputs": [
        {
          "output_type": "stream",
          "text": [
            "크로스 엔트로피(5): 0.6393368525817786\n"
          ],
          "name": "stdout"
        }
      ]
    },
    {
      "cell_type": "code",
      "metadata": {
        "id": "A6CY1knCY4RG",
        "colab_type": "code",
        "colab": {}
      },
      "source": [
        ""
      ],
      "execution_count": 0,
      "outputs": []
    }
  ]
}