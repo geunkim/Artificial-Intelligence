{
  "nbformat": 4,
  "nbformat_minor": 0,
  "metadata": {
    "colab": {
      "name": "simple_logistic_regression.ipynb",
      "provenance": [],
      "toc_visible": true,
      "authorship_tag": "ABX9TyPxIzIT3spSdaCsEVtLHB5Q",
      "include_colab_link": true
    },
    "kernelspec": {
      "name": "python3",
      "display_name": "Python 3"
    }
  },
  "cells": [
    {
      "cell_type": "markdown",
      "metadata": {
        "id": "view-in-github",
        "colab_type": "text"
      },
      "source": [
        "<a href=\"https://colab.research.google.com/github/geunkim/Artificial-Intelligence/blob/master/Code/simple_logistic_regression.ipynb\" target=\"_parent\"><img src=\"https://colab.research.google.com/assets/colab-badge.svg\" alt=\"Open In Colab\"/></a>"
      ]
    },
    {
      "cell_type": "markdown",
      "metadata": {
        "id": "6YriZpbH0gBJ",
        "colab_type": "text"
      },
      "source": [
        "# simple logistic regression\n",
        "\n",
        "<table align=\"center\">\n",
        "  <tr><th>x</th><th>y</th><th>result</th>  \n",
        "  </tr>\n",
        "  <tr><td>1</td><td>2</td><td>0</td></tr>\n",
        "  <tr><td>2</td><td>3</td><td>0</td></tr>\n",
        "  <tr><td>3</td><td>1</td><td>0</td></tr>\n",
        "  <tr><td>4</td><td>3</td><td>1</td></tr>\n",
        "  <tr><td>5</td><td>3</td><td>1</td></tr>\n",
        "  <tr><td>6</td><td>2</td><td>1</td></tr>\n",
        "</table>"
      ]
    },
    {
      "cell_type": "markdown",
      "metadata": {
        "id": "8kh0MpTz2iHP",
        "colab_type": "text"
      },
      "source": [
        "#### 1. 라이브러리 임포트"
      ]
    },
    {
      "cell_type": "code",
      "metadata": {
        "id": "En0rCopn0Y0o",
        "colab_type": "code",
        "colab": {}
      },
      "source": [
        "import tensorflow as tf\n",
        "from tensorflow import keras\n",
        "import numpy as np"
      ],
      "execution_count": 0,
      "outputs": []
    },
    {
      "cell_type": "markdown",
      "metadata": {
        "id": "Ge3QkY1Y2v34",
        "colab_type": "text"
      },
      "source": [
        "### set input and label"
      ]
    },
    {
      "cell_type": "code",
      "metadata": {
        "id": "ZX2oSdBy2vOt",
        "colab_type": "code",
        "outputId": "7f1a1e21-377b-404a-cb64-d2c7c30df7cc",
        "colab": {
          "base_uri": "https://localhost:8080/",
          "height": 51
        }
      },
      "source": [
        "x_data = np.array([[1, 2],\n",
        "                  [2, 3],\n",
        "                  [3, 1],\n",
        "                  [4, 3],\n",
        "                  [5, 3],\n",
        "                  [6, 2]])\n",
        "y_data = np.array([[0],\n",
        "                   [0],\n",
        "                   [0],\n",
        "                   [1],\n",
        "                   [1],\n",
        "                   [1]])\n",
        "\n",
        "print(x_data.shape)\n",
        "print(y_data.shape)"
      ],
      "execution_count": 0,
      "outputs": [
        {
          "output_type": "stream",
          "text": [
            "(6, 2)\n",
            "(6, 1)\n"
          ],
          "name": "stdout"
        }
      ]
    },
    {
      "cell_type": "markdown",
      "metadata": {
        "id": "d2kV5l0A38fN",
        "colab_type": "text"
      },
      "source": [
        "## 모델 만들기"
      ]
    },
    {
      "cell_type": "code",
      "metadata": {
        "id": "pblkGeRT4Bu7",
        "colab_type": "code",
        "colab": {}
      },
      "source": [
        "model = keras.models.Sequential()\n",
        "model.add(keras.layers.Dense(1, input_dim=2, activation='sigmoid'))"
      ],
      "execution_count": 0,
      "outputs": []
    },
    {
      "cell_type": "markdown",
      "metadata": {
        "id": "yS6xvbb-4XGY",
        "colab_type": "text"
      },
      "source": [
        "## 모델 컴파일"
      ]
    },
    {
      "cell_type": "code",
      "metadata": {
        "id": "gIPHUecl4cfB",
        "colab_type": "code",
        "colab": {}
      },
      "source": [
        "model.compile(loss='binary_crossentropy', optimizer='sgd', metrics=['accuracy'])"
      ],
      "execution_count": 0,
      "outputs": []
    },
    {
      "cell_type": "markdown",
      "metadata": {
        "id": "faJ9xoXu4r5o",
        "colab_type": "text"
      },
      "source": [
        "모델 학습"
      ]
    },
    {
      "cell_type": "code",
      "metadata": {
        "id": "tvAUFXw84umF",
        "colab_type": "code",
        "outputId": "1bc84f02-5fd2-4291-f743-37fc89a84d26",
        "colab": {
          "base_uri": "https://localhost:8080/",
          "height": 187
        }
      },
      "source": [
        "model.summary()\n",
        "history = model.fit(x_data, y_data, epochs=2000, verbose=0)"
      ],
      "execution_count": 0,
      "outputs": [
        {
          "output_type": "stream",
          "text": [
            "Model: \"sequential_6\"\n",
            "_________________________________________________________________\n",
            "Layer (type)                 Output Shape              Param #   \n",
            "=================================================================\n",
            "dense_5 (Dense)              (None, 1)                 3         \n",
            "=================================================================\n",
            "Total params: 3\n",
            "Trainable params: 3\n",
            "Non-trainable params: 0\n",
            "_________________________________________________________________\n"
          ],
          "name": "stdout"
        }
      ]
    },
    {
      "cell_type": "markdown",
      "metadata": {
        "id": "J7R5Cqnw44RB",
        "colab_type": "text"
      },
      "source": [
        "#### 예측"
      ]
    },
    {
      "cell_type": "code",
      "metadata": {
        "id": "FdopgjfM47eD",
        "colab_type": "code",
        "outputId": "937eb167-c7d6-4ac7-d11c-b1950a8c1c05",
        "colab": {
          "base_uri": "https://localhost:8080/",
          "height": 68
        }
      },
      "source": [
        "print('Accuracy: ', history.history['accuracy'][-1])\n",
        "print(\"2, 1\", model.predict_classes(np.array([[2, 1]])))\n",
        "print(\"6, 5\", model.predict_classes(np.array([[6, 5]])))"
      ],
      "execution_count": 0,
      "outputs": [
        {
          "output_type": "stream",
          "text": [
            "Accuracy:  1.0\n",
            "2, 1 [[0]]\n",
            "6, 5 [[1]]\n"
          ],
          "name": "stdout"
        }
      ]
    }
  ]
}