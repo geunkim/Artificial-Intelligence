{
  "nbformat": 4,
  "nbformat_minor": 0,
  "metadata": {
    "colab": {
      "name": "Machine-Learning-Models.ipynb",
      "provenance": [],
      "collapsed_sections": [],
      "toc_visible": true,
      "authorship_tag": "ABX9TyPZujP/G6kQluB6Ash9TDJu",
      "include_colab_link": true
    },
    "kernelspec": {
      "name": "python3",
      "display_name": "Python 3"
    }
  },
  "cells": [
    {
      "cell_type": "markdown",
      "metadata": {
        "id": "view-in-github",
        "colab_type": "text"
      },
      "source": [
        "<a href=\"https://colab.research.google.com/github/geunkim/Artificial-Intelligence/blob/master/Code/Machine_Learning_Models.ipynb\" target=\"_parent\"><img src=\"https://colab.research.google.com/assets/colab-badge.svg\" alt=\"Open In Colab\"/></a>"
      ]
    },
    {
      "cell_type": "markdown",
      "metadata": {
        "id": "nGClMZpw6NjJ",
        "colab_type": "text"
      },
      "source": [
        "# **Machin Learning Models** \n",
        "이 페이지는 머신 러닝 관련 모델 정리를 위한 것입니다. \n",
        "\n",
        "\n",
        "* 참고자료\n",
        "  - [Learn TensorFlow 1: The \"Hello World\" of machine learning](https://codelabs.developers.google.com/codelabs/tensorflow-lab1-helloworld/#3)\n",
        "  \n"
      ]
    },
    {
      "cell_type": "markdown",
      "metadata": {
        "id": "iXLyqctX-sx7",
        "colab_type": "text"
      },
      "source": [
        " ### **[common] Imports**\n",
        "\n",
        "  * numpy 라는 라이브러리를 import한 후 쉽게 사용하기 위해 'np' 라고 부르기로 함\n",
        "  * TensorFlow를 import하고 쉽게 사용하기 위해 'tf'로 부르기로 함\n",
        "  * sequential layer로 신경망을 정의하기 위한 프레임워크로 'keras'를 import 함  "
      ]
    },
    {
      "cell_type": "code",
      "metadata": {
        "id": "kyEo6JDq9Iyc",
        "colab_type": "code",
        "colab": {}
      },
      "source": [
        "import numpy as np\n",
        "import tensorflow as tf\n",
        "from tensorflow import keras"
      ],
      "execution_count": 0,
      "outputs": []
    },
    {
      "cell_type": "markdown",
      "metadata": {
        "id": "Oo4MVzeE-X4V",
        "colab_type": "text"
      },
      "source": [
        "## **MODEL 1: simple learning model**\n",
        "\n",
        "다음의 x와 y 관계가 다음과 같다. 이를  관계로 부터 학습을 하여 모델을 정립하고 새로운 x에 대한 예측 값을 구해서 학습 결과를 검증한다. \n",
        "\n",
        "<table>\n",
        "  <tr>\n",
        "    <td> x: </td>\n",
        "    <td> -1 </td>\n",
        "    <td>  0 </td>\n",
        "    <td>  1 </td>\n",
        "    <td>  2 </td> \n",
        "    <td>  3 </td>\n",
        "    <td>  4 </td>\n",
        "  </tr> \n",
        "  <tr>\n",
        "    <td> y: </td>\n",
        "    <td> -2 </td>\n",
        "    <td>  1 </td>\n",
        "    <td>  4 </td>\n",
        "    <td>  7 </td>\n",
        "    <td> 10 </td>\n",
        "    <td> 13 </td>\n",
        "  </tr>\n",
        "</table>"
      ]
    },
    {
      "cell_type": "markdown",
      "metadata": {
        "id": "iPYyOSEeAOFS",
        "colab_type": "text"
      },
      "source": [
        "### **1. Define and compile the neural network (신경망의 정의 및 컴파일)**\n",
        "\n",
        "단순하고 가능한 **신경망 네트워크를 생성**한다. 이 네트워크는 뉴런이 하나인 계층이 하나이고 입력은 하나이다."
      ]
    },
    {
      "cell_type": "code",
      "metadata": {
        "id": "T9VsvVtABWCk",
        "colab_type": "code",
        "colab": {}
      },
      "source": [
        "model = tf.keras.Sequential([keras.layers.Dense(units=1, input_shape=[1])])"
      ],
      "execution_count": 0,
      "outputs": []
    },
    {
      "cell_type": "markdown",
      "metadata": {
        "id": "OplH-NZaBgsu",
        "colab_type": "text"
      },
      "source": [
        "다음 신경망을 컴파일하는 코드를 작성하여야 한다. 컴파일할 때 손실('**loss**')과 최적화기('**optimizer**')의 두 함수를 규정해야 한다. \n",
        "\n",
        "머신 러닝 공부를 하면서 많은 수학식을 보았다면 보통 여기서 사용된다. 그러나 이 경우에는 많은 함수들이 캡슐화되었다.  \n",
        "\n",
        "'**loss**' 함수는 정답에 대해서 추론한 답을 측정하고 추론이 얼마나 잘 되었는지 잘 못되었는지 측정하느데 사용된다. \n",
        "\n",
        "모델은 다른 추론을 하기 위해서 최적화기('**optimizer**')를 사용한다. 손실(**loss**)함수의 결과를 기반으로 loss(손실)를 최소화를 추진한다.\n",
        "\n",
        "모델은 다음에 보게 될 이러한 과정(**epoch**)을 여러번 반복한다.\n",
        "\n",
        "그러나 먼저 손실에 대해 평균제곱오차('**mean squared error**')를 최적화기에 대해 확률적 경사하강('sgd')('**stochastic gradient descent**')를 사용하는 방법을\n",
        "이야기한다. \n",
        "\n",
        "시나리오에 따라 적절한 손실 함수와 최적화기 함수가 있으며 이는 다른 모델에서 다룬다."
      ]
    },
    {
      "cell_type": "code",
      "metadata": {
        "id": "fGHQHqy2Kmqs",
        "colab_type": "code",
        "colab": {}
      },
      "source": [
        "model.compile(optimizer='sgd', loss='mean_squared_error')"
      ],
      "execution_count": 0,
      "outputs": []
    },
    {
      "cell_type": "markdown",
      "metadata": {
        "id": "8TVdwScULGU2",
        "colab_type": "text"
      },
      "source": [
        "### **2. Providing the data (데이터 제공)**\n",
        "\n",
        "다음으로 학습을 위한 데이터를 제공한다. 'numpy'라는 파이썬 라이브롤는 여러 배열 형태 자료구조를 제공하며 텐서플로우에서 사실 표준(defacto standard)으로 사용된다. \n",
        "\n",
        "앞에서 제시한 데이터를 'numpy'의 자료구조를 활용하여 다음과 같이 선언한다."
      ]
    },
    {
      "cell_type": "code",
      "metadata": {
        "id": "9ucV6-rsMFb1",
        "colab_type": "code",
        "colab": {}
      },
      "source": [
        "xs = np.array([-1.0, 0.0, 1.0, 2.0, 3.0, 4.0], dtype=float)\n",
        "ys = np.array([-2.0, 1.0, 4.0, 7.0, 10.0, 13.0], dtype=float)"
      ],
      "execution_count": 0,
      "outputs": []
    },
    {
      "cell_type": "code",
      "metadata": {
        "id": "8Z-xoGVlMRwR",
        "colab_type": "code",
        "colab": {}
      },
      "source": [
        "print(xs)\n",
        "print(ys)"
      ],
      "execution_count": 0,
      "outputs": []
    },
    {
      "cell_type": "markdown",
      "metadata": {
        "id": "03B5n9JuMLoJ",
        "colab_type": "text"
      },
      "source": [
        "이제 신경망을 정의하는데 필요한 모든 코드를 작성하였다. 다음에는 이를 학습시켜서 입력 데이터와 출력 데이터 간의 패턴을 추론하여 모델을 생성하는데 사용한다. "
      ]
    },
    {
      "cell_type": "markdown",
      "metadata": {
        "id": "kFQJ5VTZMyd8",
        "colab_type": "text"
      },
      "source": [
        "### **3. Traning the neural network (신경망 학습)**\n",
        "\n",
        "입력 데이터와 출력 데이터 간의 관계를 학습하기 위해 `model.fit()` 메소드(함수)를 사용한다. 다음은 앞의 `xs` 와 `ys` 학습 데이터와 `epoch` 수를  500번을 설정하여 반복을 500번 하도록 설정하고 `fit()` 메소드를 호출하는 코드이다. 이 코드를 수행하면 각 단계의 손실(loss)을 출력한다. "
      ]
    },
    {
      "cell_type": "code",
      "metadata": {
        "id": "r78trFD9OHTb",
        "colab_type": "code",
        "colab": {}
      },
      "source": [
        "model.fit(xs, ys, epochs=500)"
      ],
      "execution_count": 0,
      "outputs": []
    },
    {
      "cell_type": "markdown",
      "metadata": {
        "id": "2zRJd3irORRT",
        "colab_type": "text"
      },
      "source": [
        "이 학습에서는 500 번 까지 반복하지 않아도 된다는 것을 확인할 수 있다. 약 250번 정도만 해도 아주 적은 손실을 볼 수 있을 것이다."
      ]
    },
    {
      "cell_type": "markdown",
      "metadata": {
        "id": "pHm8S87LOrkR",
        "colab_type": "text"
      },
      "source": [
        "### **4. Using the Model(모델 사용하기)**\n",
        "\n",
        "학습이 끝나서 모델이 만들어졌다. 모델을 사용하기 위해서는 `model.predict()` 메소드를 사용한다. 다음은 x = 10 일 때 y 의 값이 얼마가 되는지 예측하고 예측결과를 화면에 출력한 것이다."
      ]
    },
    {
      "cell_type": "code",
      "metadata": {
        "id": "ibmg3ZX8PQfX",
        "colab_type": "code",
        "colab": {}
      },
      "source": [
        "print(model.predict([10.0]))"
      ],
      "execution_count": 0,
      "outputs": []
    }
  ]
}