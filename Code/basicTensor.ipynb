{
  "nbformat": 4,
  "nbformat_minor": 0,
  "metadata": {
    "colab": {
      "name": "basicTensor.ipynb",
      "provenance": [],
      "collapsed_sections": [],
      "authorship_tag": "ABX9TyNBgeKMR8mr1gqJ8KqXmU7T",
      "include_colab_link": true
    },
    "kernelspec": {
      "name": "python3",
      "display_name": "Python 3"
    }
  },
  "cells": [
    {
      "cell_type": "markdown",
      "metadata": {
        "id": "view-in-github",
        "colab_type": "text"
      },
      "source": [
        "<a href=\"https://colab.research.google.com/github/geunkim/Artificial-Intelligence/blob/master/Code/basicTensor.ipynb\" target=\"_parent\"><img src=\"https://colab.research.google.com/assets/colab-badge.svg\" alt=\"Open In Colab\"/></a>"
      ]
    },
    {
      "cell_type": "markdown",
      "metadata": {
        "id": "hIRkOJpxonSW",
        "colab_type": "text"
      },
      "source": [
        "# **Tensor's Basic(텐서의 기본)** "
      ]
    },
    {
      "cell_type": "markdown",
      "metadata": {
        "id": "sWqi1ZqjsS45",
        "colab_type": "text"
      },
      "source": [
        "## **텐서플로(TensorFlow) 임포트**\n",
        "\n",
        "텐서를 사용하기 위해서는 텐서플로 모듈을 임포트(import)하여야 한다. 텐서플로 2.0은 즉시 실행(eager execution)을 기본적으로 제공한다. 이는 텐서플로를 조금 더 대화형 프론트앤드에 가깝게 만들어준다.\n",
        "텐서플로 모듈의 임포트는 다음과 같다. "
      ]
    },
    {
      "cell_type": "code",
      "metadata": {
        "id": "eCJVbWxqoiNK",
        "colab_type": "code",
        "colab": {
          "base_uri": "https://localhost:8080/",
          "height": 34
        },
        "outputId": "fccee7a8-21db-47cf-9402-e201cf5d4463"
      },
      "source": [
        "import tensorflow as tf\n",
        "print('텐서플로 버전: {}'.format(tf.__version__))"
      ],
      "execution_count": 5,
      "outputs": [
        {
          "output_type": "stream",
          "text": [
            "텐서플로 버전: 2.2.0-rc2\n"
          ],
          "name": "stdout"
        }
      ]
    },
    {
      "cell_type": "markdown",
      "metadata": {
        "id": "v4SJs4PToqyt",
        "colab_type": "text"
      },
      "source": [
        "## **Tensor(텐서)**\n",
        "\n",
        "텐서는 모든 데이터를 표현할 수 있는 동적크기를 갖는 다차원 데이터 배열로 Numpy의 ndarray 객체와 비슷하며 tf.Tensor 객체는 데이터 타입과 크기를 가지고 있다. tf.Tensor는 GPU 같은 가속기 메모리에 상주할 수 있다. 텐서플로(TensorFlow)는 텐서를 생성하고 이용할 수 있는 연산 라이브러리를 제공한다. \n",
        "이러한 연산은 자동으로 텐서를 파이썬 네이티브 자료형으로 변환한다. \n",
        "\n",
        "  * 텐서는 GPU, TPU와 같은 가속기 메모리에서 사용가능\n",
        "  * 텐서는 불변성(immutable)을 가짐\n",
        "\n"
      ]
    },
    {
      "cell_type": "markdown",
      "metadata": {
        "id": "oTKjG8O92pT3",
        "colab_type": "text"
      },
      "source": [
        "각 텐서는 배열의 차원을 나타내는 랭크(rank)를 가진다. 텐서의 랭크는 제한이 없다. 텐서의 차원을 표현하기 위해 구조(shape), 랭크(rank), 차원번호(dimension number)라는 세 가지 종류의 명칭을 사용한다. \n",
        "\n",
        "다음은 랭크가 2인 배열이다. "
      ]
    },
    {
      "cell_type": "code",
      "metadata": {
        "id": "R315c1533D33",
        "colab_type": "code",
        "colab": {
          "base_uri": "https://localhost:8080/",
          "height": 34
        },
        "outputId": "e329a0fb-1707-4d24-f050-4628b4539f0d"
      },
      "source": [
        "t = [[1, 2, 3],[4, 5, 6], [7, 8, 9]]\n",
        "print(tf.rank(t))   # rank: 2"
      ],
      "execution_count": 33,
      "outputs": [
        {
          "output_type": "stream",
          "text": [
            "tf.Tensor(2, shape=(), dtype=int32)\n"
          ],
          "name": "stdout"
        }
      ]
    },
    {
      "cell_type": "markdown",
      "metadata": {
        "id": "omhQe19o4k3D",
        "colab_type": "text"
      },
      "source": [
        "다음은 랭크가 3인 배열이다."
      ]
    },
    {
      "cell_type": "code",
      "metadata": {
        "id": "QJchzoWt4Zy8",
        "colab_type": "code",
        "colab": {
          "base_uri": "https://localhost:8080/",
          "height": 34
        },
        "outputId": "e9275ce1-edac-499e-fb47-7ee4bb0b3367"
      },
      "source": [
        "arr = [[[1, 2],[3, 4]],[[5, 6],[7, 8]]]\n",
        "print(tf.rank(arr))"
      ],
      "execution_count": 37,
      "outputs": [
        {
          "output_type": "stream",
          "text": [
            "tf.Tensor(3, shape=(), dtype=int32)\n"
          ],
          "name": "stdout"
        }
      ]
    },
    {
      "cell_type": "markdown",
      "metadata": {
        "id": "ktGn9-0Swmoj",
        "colab_type": "text"
      },
      "source": [
        "### **데이터 타입**\n",
        "\n",
        "텐서플로는 기본적으로 다음의 두 가지 기본적인 방법으로 메모리 공간을 할당한다. \n",
        "\n",
        "* tf.constant()를 사용한 상수 생성\n",
        "* tf.variable()을 사용한 변수 생성"
      ]
    },
    {
      "cell_type": "code",
      "metadata": {
        "id": "Zi4dCMpZzF0R",
        "colab_type": "code",
        "colab": {}
      },
      "source": [
        "print(tf.constant(10.1234).dtype)\n",
        "print(tf.constant(100000).dtype)\n",
        "print(tf.constant(100000000000000).dtype)\n",
        "print(tf.constant(True).dtype)\n",
        "print(tf.constant('Hello').dtype)"
      ],
      "execution_count": 0,
      "outputs": []
    },
    {
      "cell_type": "markdown",
      "metadata": {
        "id": "OPqoE2o3yfhU",
        "colab_type": "text"
      },
      "source": [
        "다음 연산의 결과 tf.Tensor는 값과 데이터 타입을 가지는 것을 확인한다."
      ]
    },
    {
      "cell_type": "code",
      "metadata": {
        "id": "AK2igPm_x1x9",
        "colab_type": "code",
        "colab": {
          "base_uri": "https://localhost:8080/",
          "height": 85
        },
        "outputId": "70d3aca5-6a62-4a0b-a85d-2d065fa51f71"
      },
      "source": [
        "## 각각의 tf.Tensor는 크기와 데이터형을 가진다\n",
        "print(tf.add(1, 2))\n",
        "print(tf.add([1, 2], [3, 4]))\n",
        "print(tf.square(5))\n",
        "\n",
        "# 연산자 오버로딩(overloading)을 지원\n",
        "print(tf.square(2) + tf.square(3))"
      ],
      "execution_count": 20,
      "outputs": [
        {
          "output_type": "stream",
          "text": [
            "tf.Tensor(3, shape=(), dtype=int32)\n",
            "tf.Tensor([4 6], shape=(2,), dtype=int32)\n",
            "tf.Tensor(25, shape=(), dtype=int32)\n",
            "tf.Tensor(13, shape=(), dtype=int32)\n"
          ],
          "name": "stdout"
        }
      ]
    },
    {
      "cell_type": "markdown",
      "metadata": {
        "id": "I0EgFRJnyzO-",
        "colab_type": "text"
      },
      "source": [
        "1. 행렬의 곱 연산 "
      ]
    },
    {
      "cell_type": "code",
      "metadata": {
        "id": "oPwVqLab54u0",
        "colab_type": "code",
        "colab": {
          "base_uri": "https://localhost:8080/",
          "height": 68
        },
        "outputId": "fbdaf137-d8fd-4ba9-ce48-98900eff414a"
      },
      "source": [
        "x = tf.matmul([[2]], [[3, 4]])  # 2 * [3, 4]\n",
        "print(x)\n",
        "print(x.shape)\n",
        "print(x.dtype)"
      ],
      "execution_count": 41,
      "outputs": [
        {
          "output_type": "stream",
          "text": [
            "tf.Tensor([[6 8]], shape=(1, 2), dtype=int32)\n",
            "(1, 2)\n",
            "<dtype: 'int32'>\n"
          ],
          "name": "stdout"
        }
      ]
    },
    {
      "cell_type": "markdown",
      "metadata": {
        "id": "78kpY7BY8rRU",
        "colab_type": "text"
      },
      "source": [
        "## 주요 변환 함수\n",
        "\n",
        "<table>\n",
        "  <th>함수</th><th>실행</th>\n",
        "  <tr><td>tf.shape</td><td>텐서의 구조를 알아낸다.</td></tr>\n",
        "  <tr><td>tf.size</td><td>텐서의 크기를 알아낸다.</td></tr>\n",
        "  <tr><td>tf.rank</td><td>텐서의 랭크를 알아낸다.</td></tr>\n",
        "  <tr><td>tf.reshape</td><td>텐서의 원소는 그대로 유지하고 구조를 바꾼다.</td></tr>\n",
        "  <tr><td>tf.squeeze</td><td>텐서에서 크가가 1인 차원을 삭제한다.</td></tr>\n",
        "  <tr><td>tf.expand_dims</td><td>텐서의 차원을 추가한다.</td></tr>\n",
        "  <tr><td>tf.slice</td><td>텐서의 일부분을 삭제한다.</td></tr>\n",
        "  <tr><td>tf.split</td><td>텐서를 한 차원을 기준으로 여러개의 텐서로 나눈다.</td></tr>\n",
        "  <tr><td>tf.tile</td><td>한 텐서를 여러번 중복해서 늘려 새 텐서를 만든다.</td></tr>\n",
        "  <tr><td>tf.concat</td><td>한 차원을 기준을 텐서를 이어 붙인다.</td></tr>\n",
        "  <tr><td>tf.reverse</td><td>텐서의 지정된 차원을 역전시킨다.</td></tr>\n",
        "  <tr><td>tf.transpose</td><td>텐서를 전치한다.</td></tr>\n",
        "  <tr><td>tf.gather</td><td>주어진 인덱스에 따라 텐서의 원소를 모은다.</td></tr>\n",
        "</table>"
      ]
    }
  ]
}